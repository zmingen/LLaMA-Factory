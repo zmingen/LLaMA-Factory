{
 "cells": [
  {
   "cell_type": "code",
   "execution_count": 2,
   "id": "bf6703b6-fd76-40b8-93d7-4310d7759e6c",
   "metadata": {},
   "outputs": [],
   "source": [
    "import os\n",
    "import random\n",
    "from PIL import Image\n",
    "import torchvision.transforms as transforms\n",
    "import json\n",
    "from tqdm import tqdm"
   ]
  },
  {
   "cell_type": "code",
   "execution_count": 6,
   "id": "a69b7837-063f-4964-98a8-87e7b1e3c8c0",
   "metadata": {},
   "outputs": [
    {
     "name": "stderr",
     "output_type": "stream",
     "text": [
      "  0%|          | 0/1000 [00:00<?, ?it/s]/root/miniconda3/lib/python3.10/site-packages/torchvision/transforms/functional.py:1603: UserWarning: The default value of the antialias parameter of all the resizing transforms (Resize(), RandomResizedCrop(), etc.) will change from None to True in v0.17, in order to be consistent across the PIL and Tensor backends. To suppress this warning, directly pass antialias=True (recommended, future default), antialias=None (current default, which means False for Tensors and True for PIL), or antialias=False (only works on Tensors - PIL will still use antialiasing). This also applies if you are using the inference transforms from the models weights: update the call to weights.transforms(antialias=True).\n",
      "  warnings.warn(\n",
      "  9%|▉         | 88/1000 [02:29<30:39,  2.02s/it]  "
     ]
    },
    {
     "name": "stdout",
     "output_type": "stream",
     "text": [
      "212b14da17281748234545696d0add\n"
     ]
    },
    {
     "name": "stderr",
     "output_type": "stream",
     "text": [
      "100%|██████████| 1000/1000 [29:56<00:00,  1.80s/it] "
     ]
    },
    {
     "name": "stdout",
     "output_type": "stream",
     "text": [
      "图像变换和保存完成，JSON文件已更新。\n"
     ]
    },
    {
     "name": "stderr",
     "output_type": "stream",
     "text": [
      "\n"
     ]
    }
   ],
   "source": [
    "# 数据增强的变换操作\n",
    "def get_transform(base_width, base_height):\n",
    "    crop_ratio = random.uniform(0.7, 1.0)\n",
    "    return transforms.Compose([\n",
    "        transforms.ToTensor(),\n",
    "        transforms.RandomCrop(size=(int(base_height * crop_ratio), int(base_width * crop_ratio))),\n",
    "        transforms.ColorJitter(brightness=0.2, contrast=0.2, saturation=0.2, hue=0.1),\n",
    "        transforms.ToPILImage()\n",
    "    ])\n",
    "\n",
    "# 调整尺寸的变换操作\n",
    "def resize_transform(base_width, base_height, scale_range):\n",
    "    return transforms.Compose([\n",
    "        transforms.ToTensor(),\n",
    "        transforms.Resize((int(base_height * random.uniform(*scale_range)), \n",
    "                           int(base_width * random.uniform(*scale_range)))),\n",
    "        transforms.ToPILImage()\n",
    "    ])\n",
    "\n",
    "# 加载JSON文件\n",
    "def load_json(json_path):\n",
    "    with open(json_path, 'r') as f:\n",
    "        return json.load(f)\n",
    "\n",
    "# 保存JSON文件\n",
    "def save_json(data, json_path):\n",
    "    with open(json_path, 'w') as f:\n",
    "        json.dump(data, f, indent=4)\n",
    "\n",
    "# 创建新的记录\n",
    "def create_new_record(original_record, new_images, index):\n",
    "    return {\n",
    "        \"id\": f\"{original_record['id']}_{index}\",\n",
    "        \"instruction\": original_record[\"instruction\"],\n",
    "        \"input\": original_record.get(\"input\", \"\"),\n",
    "        \"output\": original_record.get(\"output\", \"\"),\n",
    "        \"image\": new_images\n",
    "    }\n",
    "\n",
    "# 图像处理和数据更新\n",
    "def augment_images(data, output_json_path, transform_count=10, scale_range=(0.7, 1.3)):\n",
    "    new_data = data[:]\n",
    "    for item in tqdm(data):\n",
    "        if 'image' in item and item['image']:\n",
    "            base_image_paths = item['image']\n",
    "\n",
    "            for i in range(1, transform_count + 1):\n",
    "                new_image_paths = []\n",
    "                for image_path in base_image_paths:\n",
    "                    base_path, ext = os.path.splitext(image_path)\n",
    "\n",
    "                    # 打开图像\n",
    "                    image = Image.open(image_path).convert('RGB')\n",
    "                    base_width, base_height = image.size\n",
    "\n",
    "                    # 应用变换\n",
    "                    transformed_image = get_transform(base_width, base_height)(image)\n",
    "                    resized_image = resize_transform(base_width, base_height, scale_range)(transformed_image)\n",
    "\n",
    "                    # 构建新的文件名并保存\n",
    "                    new_image_path = f\"{base_path}_{i}{ext}\"\n",
    "                    resized_image.save(new_image_path)\n",
    "                    new_image_paths.append(new_image_path)\n",
    "\n",
    "                # 添加新记录到数据中\n",
    "                new_data.append(create_new_record(item, new_image_paths, i))\n",
    "        else:\n",
    "            print(item[\"id\"])\n",
    "    \n",
    "    save_json(new_data, output_json_path)\n",
    "    print(\"图像变换和保存完成，JSON文件已更新。\")\n",
    "\n",
    "# 主函数\n",
    "if __name__ == \"__main__\":\n",
    "    json_file_path = 'mire/train-augment/train.json'\n",
    "    data = load_json(json_file_path)\n",
    "    augment_images(data, json_file_path)"
   ]
  },
  {
   "cell_type": "code",
   "execution_count": 8,
   "id": "786dd6ee-b241-414c-a9d8-e0eaa645076c",
   "metadata": {},
   "outputs": [],
   "source": [
    "import re\n",
    "\n",
    "json_path = 'mire/train-augment/train.json'\n",
    "with open(json_path, 'r') as f:\n",
    "    json_data = json.load(f)\n",
    "\n",
    "    # 遍历每条记录\n",
    "    for item in json_data:\n",
    "        # 计算\"<image>\"出现的次数\n",
    "        image_count_in_instruction = len(re.findall(r'<image>', item['instruction']))\n",
    "    \n",
    "        # 检查\"image\"字段的长度是否与\"<image>\"出现的次数匹配\n",
    "        if len(item['image']) != image_count_in_instruction:\n",
    "            # 如果不匹配，打印该条记录的\"id\"字段\n",
    "            print(item['id'])"
   ]
  },
  {
   "cell_type": "code",
   "execution_count": null,
   "id": "2e7ae6fd-683d-421f-bc2c-eeb27a16e36c",
   "metadata": {},
   "outputs": [],
   "source": []
  }
 ],
 "metadata": {
  "kernelspec": {
   "display_name": "Python 3 (ipykernel)",
   "language": "python",
   "name": "python3"
  },
  "language_info": {
   "codemirror_mode": {
    "name": "ipython",
    "version": 3
   },
   "file_extension": ".py",
   "mimetype": "text/x-python",
   "name": "python",
   "nbconvert_exporter": "python",
   "pygments_lexer": "ipython3",
   "version": "3.10.8"
  }
 },
 "nbformat": 4,
 "nbformat_minor": 5
}
