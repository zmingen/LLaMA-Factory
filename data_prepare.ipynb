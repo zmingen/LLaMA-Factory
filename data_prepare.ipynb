{
 "cells": [
  {
   "cell_type": "code",
   "execution_count": 1,
   "id": "b16d2e61-1f13-4a2c-ac81-0b9424541c88",
   "metadata": {},
   "outputs": [],
   "source": [
    "import json\n",
    "import os"
   ]
  },
  {
   "cell_type": "code",
   "execution_count": 2,
   "id": "1a20dc8a-b39f-4ac7-b3cc-fbc997bc86e5",
   "metadata": {},
   "outputs": [],
   "source": [
    "def update_image_path(json_file_path, image_path):\n",
    "    with open(json_file_path, \"r\", encoding=\"utf-8\") as file:\n",
    "        data = json.load(file)  \n",
    "        for item in data:\n",
    "            images = item['image']\n",
    "            # 修改 image 路径\n",
    "            item['image'] = [image_path + image for image in images]\n",
    "\n",
    "    # 将修改后的数据保存回原 JSON 文件\n",
    "    with open(json_file_path, \"w\", encoding=\"utf-8\") as file:\n",
    "        json.dump(data, file, ensure_ascii=False, indent=4) "
   ]
  },
  {
   "cell_type": "code",
   "execution_count": 3,
   "id": "b267cae5-8946-405c-94cb-871d914f2ab9",
   "metadata": {},
   "outputs": [],
   "source": [
    "test_json_file_path = 'data/mire/test1/test1.json'\n",
    "test_image_path = 'mire/test1/images/'\n",
    "train_json_file_path = json_file_path = 'data/mire/train/train.json'\n",
    "train_image_path = 'mire/train/images/'"
   ]
  },
  {
   "cell_type": "code",
   "execution_count": 4,
   "id": "3a5c64fc-1069-4655-9ddc-37db5eaed33f",
   "metadata": {},
   "outputs": [],
   "source": [
    "update_image_path(train_json_file_path, train_image_path)\n",
    "update_image_path(test_json_file_path, test_image_path)"
   ]
  },
  {
   "cell_type": "code",
   "execution_count": null,
   "id": "17c4df2b-16a0-404e-8605-6fde85b86e30",
   "metadata": {},
   "outputs": [],
   "source": []
  }
 ],
 "metadata": {
  "kernelspec": {
   "display_name": "Python 3 (ipykernel)",
   "language": "python",
   "name": "python3"
  },
  "language_info": {
   "codemirror_mode": {
    "name": "ipython",
    "version": 3
   },
   "file_extension": ".py",
   "mimetype": "text/x-python",
   "name": "python",
   "nbconvert_exporter": "python",
   "pygments_lexer": "ipython3",
   "version": "3.10.8"
  }
 },
 "nbformat": 4,
 "nbformat_minor": 5
}
